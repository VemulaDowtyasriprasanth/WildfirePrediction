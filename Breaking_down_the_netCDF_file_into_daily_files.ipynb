{
 "cells": [
  {
   "cell_type": "code",
   "execution_count": null,
   "metadata": {
    "id": "bEFj3ZhVM-WP"
   },
   "outputs": [],
   "source": [
    "import xarray as xr\n",
    "\n",
    "def split_nc_by_day(input_nc_path, output_folder):\n",
    "    # Open the netCDF file\n",
    "    ds = xr.open_dataset(input_nc_path)\n",
    "\n",
    "    # Loop over each day in the dataset\n",
    "    for i, day in enumerate(ds.time):\n",
    "        # Select the data for the current day\n",
    "        day_data = ds.sel(time=day)\n",
    "\n",
    "        # Create the output file path\n",
    "        output_file = os.path.join(output_folder, f\"day_{i+1}.nc\")\n",
    "\n",
    "        # Save the daily data to a new netCDF file\n",
    "        day_data.to_netcdf(output_file)\n"
   ]
  }
 ],
 "metadata": {
  "colab": {
   "provenance": []
  },
  "kernelspec": {
   "display_name": "Python 3 (ipykernel)",
   "language": "python",
   "name": "python3"
  },
  "language_info": {
   "codemirror_mode": {
    "name": "ipython",
    "version": 3
   },
   "file_extension": ".py",
   "mimetype": "text/x-python",
   "name": "python",
   "nbconvert_exporter": "python",
   "pygments_lexer": "ipython3",
   "version": "3.10.9"
  }
 },
 "nbformat": 4,
 "nbformat_minor": 1
}
