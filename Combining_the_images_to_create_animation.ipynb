{
 "cells": [
  {
   "cell_type": "code",
   "execution_count": null,
   "metadata": {
    "id": "W2CSsCVINiko"
   },
   "outputs": [],
   "source": [
    "import imageio\n",
    "\n",
    "def create_gif(image_files, output_gif):\n",
    "    # Read all the images\n",
    "    images = [imageio.imread(image_file) for image_file in image_files]\n",
    "\n",
    "    # Save the images as a GIF animation\n",
    "    imageio.mimsave(output_gif, images, duration=0.2)  # Change duration as needed\n"
   ]
  }
 ],
 "metadata": {
  "colab": {
   "provenance": []
  },
  "kernelspec": {
   "display_name": "Python 3 (ipykernel)",
   "language": "python",
   "name": "python3"
  },
  "language_info": {
   "codemirror_mode": {
    "name": "ipython",
    "version": 3
   },
   "file_extension": ".py",
   "mimetype": "text/x-python",
   "name": "python",
   "nbconvert_exporter": "python",
   "pygments_lexer": "ipython3",
   "version": "3.10.9"
  }
 },
 "nbformat": 4,
 "nbformat_minor": 1
}
