{
 "cells": [
  {
   "cell_type": "code",
   "execution_count": null,
   "metadata": {
    "id": "39kSygiKNU1H"
   },
   "outputs": [],
   "source": []
  },
  {
   "cell_type": "code",
   "execution_count": null,
   "metadata": {
    "id": "Y_HEy8wKN0AC"
   },
   "outputs": [],
   "source": [
    "import matplotlib.pyplot as plt\n",
    "import geopandas as gpd\n",
    "import cartopy.crs as ccrs\n",
    "\n",
    "def plot_nc_on_shapefile(nc_file, shapefile, output_image):\n",
    "    # Load the netCDF file\n",
    "    ds = xr.open_dataset(nc_file)\n",
    "\n",
    "    # Load the shapefile\n",
    "    gdf = gpd.read_file(shapefile)\n",
    "\n",
    "    # Create a figure with the required projection\n",
    "    fig, ax = plt.subplots(subplot_kw={'projection': ccrs.PlateCarree()}, figsize=(10, 10))\n",
    "\n",
    "    # Convert the GeoDataFrame to a GeoSeries\n",
    "    world = gpd.GeoSeries(gdf['geometry'])\n",
    "\n",
    "    # Plot the shapefile\n",
    "    world.plot(ax=ax, color='none', edgecolor='black')\n",
    "\n",
    "    # Plot the netCDF data\n",
    "    ds['tmin'].plot.imshow(ax=ax, add_colorbar=True)\n",
    "\n",
    "    # Save the figure to a PNG file\n",
    "    plt.savefig(output_image)\n",
    "    plt.close(fig)\n"
   ]
  }
 ],
 "metadata": {
  "colab": {
   "provenance": []
  },
  "kernelspec": {
   "display_name": "Python 3 (ipykernel)",
   "language": "python",
   "name": "python3"
  },
  "language_info": {
   "codemirror_mode": {
    "name": "ipython",
    "version": 3
   },
   "file_extension": ".py",
   "mimetype": "text/x-python",
   "name": "python",
   "nbconvert_exporter": "python",
   "pygments_lexer": "ipython3",
   "version": "3.10.9"
  }
 },
 "nbformat": 4,
 "nbformat_minor": 1
}
